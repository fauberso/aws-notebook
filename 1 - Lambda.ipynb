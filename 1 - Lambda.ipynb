{
 "cells": [
  {
   "cell_type": "markdown",
   "metadata": {},
   "source": [
    "Exaple of how to programmatically define a Lambda function and invoke it:"
   ]
  },
  {
   "cell_type": "code",
   "execution_count": 88,
   "metadata": {},
   "outputs": [],
   "source": [
    "import binascii\n",
    "import os\n",
    "import requests\n",
    "import boto3\n",
    "import time\n",
    "import random\n",
    "import json\n",
    "import inspect\n",
    "import io\n",
    "import zipfile\n",
    "\n",
    "from botocore.exceptions import ClientError"
   ]
  },
  {
   "cell_type": "markdown",
   "metadata": {},
   "source": [
    "This will be our Lambda function:"
   ]
  },
  {
   "cell_type": "code",
   "execution_count": 89,
   "metadata": {},
   "outputs": [
    {
     "data": {
      "text/plain": [
       "{'message': 'Hello Fred Krueger!',\n",
       " 'event': {'first_name': 'Fred', 'last_name': 'Krueger'}}"
      ]
     },
     "execution_count": 89,
     "metadata": {},
     "output_type": "execute_result"
    }
   ],
   "source": [
    "def handler(event, context):\n",
    "    message = f'Hello {event[\"first_name\"]} {event[\"last_name\"]}!'\n",
    "    return {'message': message, 'event': event}\n",
    "\n",
    "handler({\"first_name\":\"Fred\", \"last_name\":\"Krueger\"}, None)"
   ]
  },
  {
   "cell_type": "markdown",
   "metadata": {},
   "source": [
    "#### We'll tag everything as follows:"
   ]
  },
  {
   "cell_type": "code",
   "execution_count": 90,
   "metadata": {},
   "outputs": [],
   "source": [
    "tags=[\n",
    "    {\n",
    "        'Key': 'Environment',\n",
    "        'Value': 'Production'\n",
    "    }\n",
    "]"
   ]
  },
  {
   "cell_type": "markdown",
   "metadata": {},
   "source": [
    "#### First, define a role for executing our lambda function:"
   ]
  },
  {
   "cell_type": "code",
   "execution_count": 91,
   "metadata": {},
   "outputs": [
    {
     "name": "stdout",
     "output_type": "stream",
     "text": [
      "Role added.\n",
      "Lambda policy attached.\n",
      "Role's ARN is arn:aws:iam::549935274340:role/MyLambdaRole\n"
     ]
    }
   ],
   "source": [
    "role={\n",
    "  \"Version\": \"2012-10-17\",\n",
    "  \"Statement\": [\n",
    "    {\n",
    "      \"Sid\": \"\",\n",
    "      \"Effect\": \"Allow\",\n",
    "      \"Principal\": {\n",
    "        \"Service\": \"lambda.amazonaws.com\"\n",
    "      },\n",
    "      \"Action\": \"sts:AssumeRole\"\n",
    "    }\n",
    "  ]\n",
    "}\n",
    "\n",
    "roleName=\"MyLambdaRole\"\n",
    "\n",
    "iam = boto3.client('iam')\n",
    "\n",
    "try:\n",
    "    r = iam.create_role(RoleName=roleName, \n",
    "                Path=\"/\",\n",
    "                Description=\"Example role for testing\",\n",
    "                AssumeRolePolicyDocument=json.dumps(role),\n",
    "                Tags=tags)\n",
    "    print(\"Role added.\")\n",
    "except ClientError as e:\n",
    "    if e.response['Error']['Code'] != 'EntityAlreadyExists':\n",
    "        raise\n",
    "    print(\"Role already exists.\")\n",
    "\n",
    "lambdaExecRole = 'arn:aws:iam::aws:policy/service-role/AWSLambdaBasicExecutionRole'\n",
    "r = iam.attach_role_policy(RoleName=roleName, \n",
    "                       PolicyArn=lambdaExecRole)\n",
    "print(\"Lambda policy attached.\")\n",
    "\n",
    "roleArn = iam.get_role(RoleName=roleName)['Role']['Arn']\n",
    "print(\"Role's ARN is \"+roleArn)"
   ]
  },
  {
   "cell_type": "markdown",
   "metadata": {},
   "source": [
    "#### Zip our function:"
   ]
  },
  {
   "cell_type": "code",
   "execution_count": 92,
   "metadata": {},
   "outputs": [
    {
     "name": "stdout",
     "output_type": "stream",
     "text": [
      "258 bytes in ZIP file\n"
     ]
    }
   ],
   "source": [
    "lambda_zip = io.BytesIO()\n",
    "\n",
    "fileInfo = zipfile.ZipInfo(\"hello.py\")\n",
    "fileInfo.external_attr = 0o777 << 16\n",
    "\n",
    "with zipfile.ZipFile(lambda_zip, mode=\"w\",compression=zipfile.ZIP_DEFLATED) as zf:\n",
    "    zf.writestr(fileInfo, inspect.getsource(handler))\n",
    "\n",
    "print(str(len(lambda_zip.getvalue()))+\" bytes in ZIP file\")"
   ]
  },
  {
   "cell_type": "markdown",
   "metadata": {},
   "source": [
    "#### Upload it as a new Lambda function:"
   ]
  },
  {
   "cell_type": "code",
   "execution_count": 95,
   "metadata": {},
   "outputs": [
    {
     "name": "stdout",
     "output_type": "stream",
     "text": [
      "Lambda created.\n"
     ]
    }
   ],
   "source": [
    "awslambda=boto3.client('lambda')\n",
    "\n",
    "try:\n",
    "    awslambda.create_function(\n",
    "        FunctionName=\"HelloWorld\",\n",
    "        Runtime='python3.6',\n",
    "        Role=roleArn,\n",
    "        Handler='hello.handler',\n",
    "        Code={'ZipFile':lambda_zip.getvalue()})\n",
    "    print(\"Lambda created.\")\n",
    "except ClientError as e:\n",
    "    if e.response['Error']['Code'] != 'ResourceConflictException':\n",
    "        raise\n",
    "    print(\"Lambda already exists.\")"
   ]
  },
  {
   "cell_type": "markdown",
   "metadata": {},
   "source": [
    "#### And now invoke the lambda:"
   ]
  },
  {
   "cell_type": "code",
   "execution_count": 80,
   "metadata": {},
   "outputs": [
    {
     "name": "stdout",
     "output_type": "stream",
     "text": [
      "b'{\"message\": \"Hello Jennifer Deere!\", \"event\": {\"first_name\": \"Jennifer\", \"last_name\": \"Deere\"}}'\n"
     ]
    }
   ],
   "source": [
    "event = {'first_name': 'Jennifer', 'last_name': 'Deere'}\n",
    "\n",
    "response = awslambda.invoke(\n",
    "        FunctionName='HelloWorld',\n",
    "        InvocationType='RequestResponse',\n",
    "        LogType='Tail',\n",
    "        Payload=json.dumps(event))\n",
    "\n",
    "print(response['Payload'].read())"
   ]
  },
  {
   "cell_type": "markdown",
   "metadata": {},
   "source": [
    "#### Check the logs:"
   ]
  },
  {
   "cell_type": "code",
   "execution_count": 81,
   "metadata": {},
   "outputs": [
    {
     "name": "stdout",
     "output_type": "stream",
     "text": [
      "2019-12-19 10:30:03.885 START RequestId: 4dd86d71-c440-4479-9f5f-5d6bb1c6f565 Version: $LATEST\n",
      "2019-12-19 10:30:03.885 module initialization error: [Errno 13] Permission denied: '/var/task/hello.py'\n",
      "2019-12-19 10:30:04.117 END RequestId: 4dd86d71-c440-4479-9f5f-5d6bb1c6f565\n",
      "2019-12-19 10:30:04.117 REPORT RequestId: 4dd86d71-c440-4479-9f5f-5d6bb1c6f565\tDuration: 232.08 ms\tBilled Duration: 300 ms\tMemory Size: 128 MB\tMax Memory Used: 50 MB\tInit Duration: 1.05 ms\n",
      "2019-12-19 10:30:04.117 module initialization error\n",
      "[Errno 13] Permission denied: '/var/task/hello.py'\n",
      "2019-12-19 10:30:23.907 START RequestId: 8bb00ffa-4ef7-4b1e-9a8b-9407a69c5fb5 Version: $LATEST\n",
      "2019-12-19 10:30:23.909 module initialization error: [Errno 13] Permission denied: '/var/task/hello.py'\n",
      "2019-12-19 10:30:24.187 END RequestId: 8bb00ffa-4ef7-4b1e-9a8b-9407a69c5fb5\n",
      "2019-12-19 10:30:24.187 REPORT RequestId: 8bb00ffa-4ef7-4b1e-9a8b-9407a69c5fb5\tDuration: 276.79 ms\tBilled Duration: 300 ms\tMemory Size: 128 MB\tMax Memory Used: 21 MB\n",
      "2019-12-19 10:30:24.187 module initialization error\n",
      "[Errno 13] Permission denied: '/var/task/hello.py'\n",
      "2019-12-19 10:53:50.414 START RequestId: 329a05f4-e3b3-4810-9356-3e136503154a Version: $LATEST\n"
     ]
    }
   ],
   "source": [
    "from datetime import datetime\n",
    "log = boto3.client('logs')\n",
    "for event in log.filter_log_events(logGroupName=f'/aws/lambda/HelloWorld')['events']:\n",
    "    timestamp = int(event['timestamp'])/1000\n",
    "    date = str(datetime.fromtimestamp(timestamp))[:23]\n",
    "    message = event['message'].strip()\n",
    "    print(date, message)"
   ]
  },
  {
   "cell_type": "markdown",
   "metadata": {},
   "source": [
    "#### Housekeeping: Delete everything we've explicitely or implicitely created:"
   ]
  },
  {
   "cell_type": "code",
   "execution_count": 96,
   "metadata": {},
   "outputs": [],
   "source": [
    "try:\n",
    "    awslambda.delete_function(FunctionName='HelloWorld')\n",
    "except ClientError as e:\n",
    "    if e.response['Error']['Code'] != 'ResourceNotFoundException':\n",
    "        raise\n",
    "\n",
    "try:\n",
    "    iam.detach_role_policy(RoleName=roleName, PolicyArn=lambdaExecRole)\n",
    "    iam.delete_role(RoleName=roleName)\n",
    "except ClientError as e:\n",
    "    if e.response['Error']['Code'] != 'NoSuchEntity':\n",
    "        raise\n",
    "        \n",
    "try:\n",
    "    log.delete_log_group(logGroupName=f'/aws/lambda/HelloWorld')\n",
    "except ClientError as e:\n",
    "    if e.response['Error']['Code'] != 'ResourceNotFoundException':\n",
    "        raise"
   ]
  },
  {
   "cell_type": "code",
   "execution_count": null,
   "metadata": {},
   "outputs": [],
   "source": []
  }
 ],
 "metadata": {
  "kernelspec": {
   "display_name": "Python 3",
   "language": "python",
   "name": "python3"
  },
  "language_info": {
   "codemirror_mode": {
    "name": "ipython",
    "version": 3
   },
   "file_extension": ".py",
   "mimetype": "text/x-python",
   "name": "python",
   "nbconvert_exporter": "python",
   "pygments_lexer": "ipython3",
   "version": "3.7.5"
  }
 },
 "nbformat": 4,
 "nbformat_minor": 2
}
