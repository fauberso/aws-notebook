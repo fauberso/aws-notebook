{
 "cells": [
  {
   "cell_type": "markdown",
   "metadata": {},
   "source": [
    "Solution for ACloudGuru exercise 'Streaming Data Collection Lab': Using Kinesis streams to ingest data and dump it to S3, using Kinesis Streams so that we would be able to add some processing steps easily (as opposed to simply using firehose)"
   ]
  },
  {
   "cell_type": "code",
   "execution_count": 145,
   "metadata": {},
   "outputs": [],
   "source": [
    "import binascii\n",
    "import os\n",
    "import io\n",
    "import inspect\n",
    "import zipfile\n",
    "import requests\n",
    "import boto3\n",
    "import time\n",
    "import random\n",
    "import json\n",
    "import time\n",
    "\n",
    "from botocore.exceptions import ClientError"
   ]
  },
  {
   "cell_type": "code",
   "execution_count": 146,
   "metadata": {},
   "outputs": [
    {
     "name": "stdout",
     "output_type": "stream",
     "text": [
      "Running on account 549935274340\n"
     ]
    }
   ],
   "source": [
    "acct = boto3.client('sts').get_caller_identity().get('Account')\n",
    "print(\"Running on account \"+acct)"
   ]
  },
  {
   "cell_type": "markdown",
   "metadata": {},
   "source": [
    "#### Define a method that generates random 'user data':"
   ]
  },
  {
   "cell_type": "code",
   "execution_count": 147,
   "metadata": {},
   "outputs": [
    {
     "data": {
      "text/plain": [
       "{'FIRST': 'Meral',\n",
       " 'LAST': 'Numanoğlu',\n",
       " 'AGE': 66,\n",
       " 'GENDER': 'female',\n",
       " 'LATITUDE': '74.5832',\n",
       " 'LONGITUDE': '34.7845'}"
      ]
     },
     "execution_count": 147,
     "metadata": {},
     "output_type": "execute_result"
    }
   ],
   "source": [
    "def generateUser():\n",
    "    data = requests.get('https://randomuser.me/api').json()\n",
    "    user = {}\n",
    "    user['FIRST']=data['results'][0]['name']['first']\n",
    "    user['LAST']=data['results'][0]['name']['last']\n",
    "    user['AGE']=data['results'][0]['dob']['age']\n",
    "    user['GENDER']=data['results'][0]['gender']\n",
    "    user['LATITUDE']=data['results'][0]['location']['coordinates']['latitude']\n",
    "    user['LONGITUDE']=data['results'][0]['location']['coordinates']['longitude']\n",
    "    return user\n",
    "\n",
    "generateUser()"
   ]
  },
  {
   "cell_type": "markdown",
   "metadata": {},
   "source": [
    "#### Create the S3 bucket in which we want the result to be output:"
   ]
  },
  {
   "cell_type": "code",
   "execution_count": 148,
   "metadata": {},
   "outputs": [
    {
     "name": "stdout",
     "output_type": "stream",
     "text": [
      "Using S3 bucket arn:aws:s3:::kinesis-example-d7064c509fb6\n"
     ]
    }
   ],
   "source": [
    "bucketPrefix=\"kinesis-example-\" #Change the random part to make your bucket name unique\n",
    "\n",
    "sess = boto3.session.Session()\n",
    "s3client = boto3.client('s3')\n",
    "\n",
    "bucketName = \"\"\n",
    "\n",
    "for bucket in boto3.resource('s3').buckets.all():\n",
    "    if bucket.name.startswith(bucketPrefix):\n",
    "        bucketName = bucket.name\n",
    "\n",
    "if bucketName == \"\":\n",
    "    bucketName = bucketPrefix + binascii.hexlify(os.urandom(6)).decode()\n",
    "    print(\"Creating \"+bucketName)\n",
    "    s3client.create_bucket(Bucket=bucketName,\n",
    "                           CreateBucketConfiguration={'LocationConstraint': sess.region_name})\n",
    "\n",
    "bucketArn = \"arn:aws:s3:::\"+bucketName\n",
    "    \n",
    "print(\"Using S3 bucket \"+bucketArn)"
   ]
  },
  {
   "cell_type": "markdown",
   "metadata": {},
   "source": [
    "#### Create a new Kinesis stream with a semi-random name:"
   ]
  },
  {
   "cell_type": "code",
   "execution_count": 149,
   "metadata": {},
   "outputs": [
    {
     "name": "stdout",
     "output_type": "stream",
     "text": [
      "Creating Stream example_da23\n",
      "Stream ARN is arn:aws:kinesis:eu-central-1:549935274340:stream/example_da23\n"
     ]
    }
   ],
   "source": [
    "client = boto3.client('kinesis')\n",
    "\n",
    "streamName = 'example_' + binascii.hexlify(os.urandom(2)).decode()\n",
    "\n",
    "client.create_stream(\n",
    "    StreamName=streamName,\n",
    "    ShardCount=1\n",
    ")\n",
    "\n",
    "print(\"Creating Stream \"+streamName)\n",
    "\n",
    "response = client.describe_stream(StreamName=streamName)\n",
    "status = response['StreamDescription']['StreamStatus']\n",
    "\n",
    "while status == 'CREATING':\n",
    "    time.sleep(1)\n",
    "    response = client.describe_stream(StreamName=streamName)\n",
    "    status = response['StreamDescription']['StreamStatus']\n",
    "\n",
    "streamArn = response['StreamDescription']['StreamARN']\n",
    "\n",
    "print(\"Stream ARN is \"+streamArn)"
   ]
  },
  {
   "cell_type": "markdown",
   "metadata": {},
   "source": [
    "#### Set up Kinesis Firehose"
   ]
  },
  {
   "cell_type": "markdown",
   "metadata": {},
   "source": [
    "FIrst, define the lambda that will filter the entries:"
   ]
  },
  {
   "cell_type": "code",
   "execution_count": 150,
   "metadata": {},
   "outputs": [],
   "source": [
    "lambda_header=\"\"\"\n",
    "import base64\n",
    "import gzip\n",
    "import io\n",
    "import json\n",
    "import zlib\n",
    "\n",
    "\"\"\"\n",
    "\n",
    "import base64\n",
    "import gzip\n",
    "import io\n",
    "import json\n",
    "import zlib\n",
    "\n",
    "def handler(event, context):\n",
    "  output = []\n",
    "  for record in event['records']:\n",
    "    compressed_payload = base64.b64decode(record['data'])\n",
    "    uncompressed_payload = gzip.decompress(compressed_payload)\n",
    "    print('uncompressed_payload',uncompressed_payload)\n",
    "    payload = json.loads(uncompressed_payload)\n",
    "    output_record = {\n",
    "        'recordId': record['recordId'],\n",
    "        'result': 'Ok',\n",
    "        'data': base64.b64encode(json.dumps(payload).encode('utf-8')).decode('utf-8')\n",
    "    }\n",
    "    output.append(output_record)\n",
    "  print('Successfully processed {} records.'.format(len(event['records'])))\n",
    "  return {'records': output}"
   ]
  },
  {
   "cell_type": "code",
   "execution_count": 151,
   "metadata": {},
   "outputs": [
    {
     "name": "stdout",
     "output_type": "stream",
     "text": [
      "Role already exists.\n",
      "Lambda policy attached.\n",
      "Lambda Role's ARN is arn:aws:iam::549935274340:role/ExampleFirehoseRole\n"
     ]
    }
   ],
   "source": [
    "lambdaRole={\n",
    "  \"Version\": \"2012-10-17\",\n",
    "  \"Statement\": [\n",
    "    {\n",
    "      \"Sid\": \"\",\n",
    "      \"Effect\": \"Allow\",\n",
    "      \"Principal\": {\n",
    "        \"Service\": \"lambda.amazonaws.com\"\n",
    "      },\n",
    "      \"Action\": \"sts:AssumeRole\"\n",
    "    }\n",
    "  ]\n",
    "}\n",
    "\n",
    "lambdaRoleName=\"FirehoseLambdaRole\"\n",
    "\n",
    "iam = boto3.client('iam')\n",
    "\n",
    "try:\n",
    "    r = iam.create_role(RoleName=lambdaRoleName, \n",
    "                Path=\"/\",\n",
    "                Description=\"Lambda role for Firehose filter\",\n",
    "                AssumeRolePolicyDocument=json.dumps(lambdaRole))\n",
    "    print(\"Role added.\")\n",
    "except ClientError as e:\n",
    "    if e.response['Error']['Code'] != 'EntityAlreadyExists':\n",
    "        raise\n",
    "    print(\"Role already exists.\")\n",
    "\n",
    "lambdaPolicyArn = 'arn:aws:iam::aws:policy/service-role/AWSLambdaBasicExecutionRole'\n",
    "r = iam.attach_role_policy(RoleName=lambdaRoleName, \n",
    "                       PolicyArn=lambdaPolicyArn)\n",
    "print(\"Lambda policy attached.\")\n",
    "\n",
    "lambdaRoleArn = iam.get_role(RoleName=lambdaRoleName)['Role']['Arn']\n",
    "print(\"Lambda Role's ARN is \"+roleArn)"
   ]
  },
  {
   "cell_type": "code",
   "execution_count": 152,
   "metadata": {},
   "outputs": [
    {
     "name": "stdout",
     "output_type": "stream",
     "text": [
      "794 bytes in Lambda ZIP file\n",
      "Lambda uploaded.\n",
      "Lambda's ARN is arn:aws:lambda:eu-central-1:549935274340:function:FilterFirehoseMessages\n"
     ]
    }
   ],
   "source": [
    "awslambda=boto3.client('lambda')\n",
    "lambdaName = \"FilterFirehoseMessages\"\n",
    "\n",
    "lambda_zip = io.BytesIO()\n",
    "fileInfo = zipfile.ZipInfo(\"lambda.py\")\n",
    "fileInfo.external_attr = 0o777 << 16\n",
    "\n",
    "with zipfile.ZipFile(lambda_zip, mode=\"w\",compression=zipfile.ZIP_DEFLATED) as zf:\n",
    "    zf.writestr(fileInfo, lambda_header+inspect.getsource(handler))\n",
    "\n",
    "print(str(len(lambda_zip.getvalue()))+\" bytes in Lambda ZIP file\")\n",
    "\n",
    "try:\n",
    "    response = awslambda.create_function(\n",
    "        FunctionName=lambdaName,\n",
    "        Runtime='python3.6',\n",
    "        Role=lambdaRoleArn,\n",
    "        Handler='lambda.handler',\n",
    "        Code={'ZipFile':lambda_zip.getvalue()})\n",
    "    print(\"Lambda uploaded.\")\n",
    "except ClientError as e:\n",
    "    if e.response['Error']['Code'] != 'ResourceConflictException':\n",
    "        raise\n",
    "    print(\"Lambda already exists.\")\n",
    "    awslambda.update_function_code(\n",
    "        FunctionName=lambdaName,\n",
    "        ZipFile=lambda_zip.getvalue())\n",
    "    response = awslambda.publish_version(\n",
    "        FunctionName=lambdaName\n",
    "    )\n",
    "    \n",
    "lambdaArn=response['FunctionArn']\n",
    "print(\"Lambda's ARN is \"+lambdaArn)"
   ]
  },
  {
   "cell_type": "markdown",
   "metadata": {},
   "source": [
    "Configure Logging:"
   ]
  },
  {
   "cell_type": "code",
   "execution_count": 153,
   "metadata": {},
   "outputs": [],
   "source": [
    "logGroup=\"kinesisExample\"\n",
    "logStream=\"kinesisFirehose\"\n",
    "logArn=\"arn:aws:logs:region:account-id:log-group:\"+logGroup+\":log-stream:\"+logStream"
   ]
  },
  {
   "cell_type": "markdown",
   "metadata": {},
   "source": [
    "Define a role for the delivery stream:"
   ]
  },
  {
   "cell_type": "code",
   "execution_count": 154,
   "metadata": {
    "scrolled": true
   },
   "outputs": [
    {
     "name": "stdout",
     "output_type": "stream",
     "text": [
      "Role added.\n",
      "Policy added.\n",
      "Role's ARN is arn:aws:iam::549935274340:role/ExampleFirehoseRole\n"
     ]
    }
   ],
   "source": [
    "roleName=\"ExampleFirehoseRole\"\n",
    "role={\n",
    "  \"Version\": \"2012-10-17\",\n",
    "  \"Statement\": [\n",
    "    {\n",
    "      \"Sid\": \"\",\n",
    "      \"Effect\": \"Allow\",\n",
    "      \"Principal\": {\n",
    "        \"Service\": \"firehose.amazonaws.com\"\n",
    "      },\n",
    "      \"Action\": \"sts:AssumeRole\"\n",
    "    }\n",
    "  ]\n",
    "}\n",
    "\n",
    "policyName=\"ExampleFirehosePolicy\"\n",
    "policy={\n",
    "    \"Version\": \"2012-10-17\",  \n",
    "    \"Statement\":\n",
    "    [    \n",
    "        {      \n",
    "            \"Effect\": \"Allow\",      \n",
    "            \"Action\": [\n",
    "                \"s3:AbortMultipartUpload\",\n",
    "                \"s3:GetBucketLocation\",\n",
    "                \"s3:GetObject\",\n",
    "                \"s3:ListBucket\",\n",
    "                \"s3:ListBucketMultipartUploads\",\n",
    "                \"s3:PutObject\"\n",
    "            ],      \n",
    "            \"Resource\": [        \n",
    "                bucketArn,\n",
    "                bucketArn+\"/*\"\n",
    "            ]    \n",
    "        },        \n",
    "        {\n",
    "            \"Effect\": \"Allow\",\n",
    "            \"Action\": [\n",
    "                \"kinesis:DescribeStream\",\n",
    "                \"kinesis:GetShardIterator\",\n",
    "                \"kinesis:GetRecords\"\n",
    "            ],\n",
    "            \"Resource\": streamArn\n",
    "        },\n",
    "        {\n",
    "           \"Effect\": \"Allow\",\n",
    "           \"Action\": [\n",
    "               \"logs:PutLogEvents\"\n",
    "           ],\n",
    "           \"Resource\": [\n",
    "               logArn\n",
    "           ]\n",
    "        },\n",
    "        {\n",
    "           \"Effect\": \"Allow\", \n",
    "           \"Action\": [\n",
    "               \"lambda:InvokeFunction\", \n",
    "               \"lambda:GetFunctionConfiguration\" \n",
    "           ],\n",
    "           \"Resource\": [\n",
    "               lambdaArn\n",
    "           ]\n",
    "        }\n",
    "    ]\n",
    "}\n",
    "\n",
    "iam = boto3.client('iam')\n",
    "\n",
    "try:\n",
    "    r = iam.create_role(RoleName=roleName, \n",
    "                Path=\"/\",\n",
    "                Description=\"Example role for Kinesis Firehose\",\n",
    "                AssumeRolePolicyDocument=json.dumps(role))\n",
    "    print(\"Role added.\")\n",
    "except ClientError as e:\n",
    "    if e.response['Error']['Code'] != 'EntityAlreadyExists':\n",
    "        raise\n",
    "    print(\"Role already exists.\")\n",
    "\n",
    "policyArn=\"arn:aws:iam::\"+str(acct)+\":policy/\"+policyName\n",
    "\n",
    "try:\n",
    "    r = iam.create_policy(PolicyName=policyName, \n",
    "                Description=\"Example policy for Kinesis Firehose\",\n",
    "                PolicyDocument=json.dumps(policy))\n",
    "    print(\"Policy added.\")\n",
    "except ClientError as e:\n",
    "    if e.response['Error']['Code'] != 'EntityAlreadyExists':\n",
    "        raise\n",
    "    print(\"Policy already exists.\")\n",
    "    r = iam.create_policy_version(\n",
    "                PolicyArn=policyArn,\n",
    "                PolicyDocument=json.dumps(policy),\n",
    "                SetAsDefault=True)\n",
    "    for version in iam.list_policy_versions(PolicyArn=policyArn)['Versions']:\n",
    "        if not version['IsDefaultVersion']:\n",
    "            iam.delete_policy_version(\n",
    "                PolicyArn=policyArn,\n",
    "                VersionId=version['VersionId']\n",
    "            )\n",
    "    print(\"Policy updated.\")\n",
    "\n",
    "iam.attach_role_policy(\n",
    "    PolicyArn=policyArn,\n",
    "    RoleName=roleName\n",
    ")\n",
    "\n",
    "roleArn = iam.get_role(RoleName=roleName)['Role']['Arn']\n",
    "print(\"Role's ARN is \"+roleArn)"
   ]
  },
  {
   "cell_type": "markdown",
   "metadata": {},
   "source": [
    "Create the delivery stream:"
   ]
  },
  {
   "cell_type": "code",
   "execution_count": 156,
   "metadata": {},
   "outputs": [
    {
     "name": "stdout",
     "output_type": "stream",
     "text": [
      "Creating delivery stream delivery_stream_0dd4\n",
      "Firehose Delivery Stream ARN is arn:aws:firehose:eu-central-1:549935274340:deliverystream/delivery_stream_0dd4\n"
     ]
    }
   ],
   "source": [
    "deliveryStreamName = 'delivery_stream_' + binascii.hexlify(os.urandom(2)).decode()\n",
    "\n",
    "kfhClient = boto3.client('firehose')\n",
    "\n",
    "response = kfhClient.create_delivery_stream(\n",
    "    DeliveryStreamName=deliveryStreamName,\n",
    "    DeliveryStreamType='KinesisStreamAsSource',\n",
    "    KinesisStreamSourceConfiguration={\n",
    "        'KinesisStreamARN': streamArn,\n",
    "        'RoleARN': roleArn\n",
    "    },\n",
    "    ExtendedS3DestinationConfiguration={\n",
    "        'RoleARN': roleArn,\n",
    "        'BucketARN': bucketArn,\n",
    "        'Prefix': 'Users/',\n",
    "        'ErrorOutputPrefix': 'error',\n",
    "        'CompressionFormat': 'UNCOMPRESSED',\n",
    "        'EncryptionConfiguration': {\n",
    "            'NoEncryptionConfig': 'NoEncryption'\n",
    "        },\n",
    "        'CloudWatchLoggingOptions': {\n",
    "            'Enabled': True,\n",
    "            'LogGroupName': logGroup,\n",
    "            'LogStreamName': logStream\n",
    "        },\n",
    "        'ProcessingConfiguration': {\n",
    "            'Enabled': False,\n",
    "            'Processors': [\n",
    "                {\n",
    "                    'Type': 'Lambda',\n",
    "                    'Parameters': [\n",
    "                        {\n",
    "                            'ParameterName': 'LambdaArn',\n",
    "                            'ParameterValue': lambdaArn\n",
    "                        },\n",
    "                    ]\n",
    "                },\n",
    "            ]\n",
    "        },\n",
    "        'S3BackupMode': 'Disabled'\n",
    "    }\n",
    "        \n",
    ")\n",
    "\n",
    "print(\"Creating delivery stream \"+deliveryStreamName)\n",
    "\n",
    "response = kfhClient.describe_delivery_stream(DeliveryStreamName=deliveryStreamName)\n",
    "status = response['DeliveryStreamDescription']['DeliveryStreamStatus']\n",
    "\n",
    "while status == 'CREATING':\n",
    "    time.sleep(1)\n",
    "    response = kfhClient.describe_stream_consumer(StreamARN=streamArn, ConsumerName=consumerName)\n",
    "    status = response['DeliveryStreamDescription']['DeliveryStreamStatus']\n",
    "\n",
    "deliveryStreamArn = response['DeliveryStreamDescription']['DeliveryStreamARN']\n",
    "\n",
    "print(\"Firehose Delivery Stream ARN is \"+deliveryStreamArn)"
   ]
  },
  {
   "cell_type": "markdown",
   "metadata": {},
   "source": [
    "#### Fill it with a hundred random messages:"
   ]
  },
  {
   "cell_type": "code",
   "execution_count": 157,
   "metadata": {},
   "outputs": [
    {
     "name": "stdout",
     "output_type": "stream",
     "text": [
      "Generated 100 messages in shard {'shardId-000000000000'}\n"
     ]
    }
   ],
   "source": [
    "shards = set()\n",
    "\n",
    "for i in range(0,101):\n",
    "    user = generateUser()\n",
    "    shard = client.put_record(\n",
    "        StreamName=streamName,\n",
    "        Data=json.dumps(user),\n",
    "        PartitionKey=user['LAST']\n",
    "    )\n",
    "    shards.add(shard['ShardId'])\n",
    "\n",
    "print(\"Generated \"+str(i)+\" messages in shard \"+str(shards))"
   ]
  },
  {
   "cell_type": "code",
   "execution_count": null,
   "metadata": {},
   "outputs": [],
   "source": [
    "#### Clean up any object we have created:"
   ]
  },
  {
   "cell_type": "code",
   "execution_count": 144,
   "metadata": {},
   "outputs": [
    {
     "ename": "NameError",
     "evalue": "name 'lambdaPolicyArn' is not defined",
     "output_type": "error",
     "traceback": [
      "\u001b[0;31m---------------------------------------------------------------------------\u001b[0m",
      "\u001b[0;31mNameError\u001b[0m                                 Traceback (most recent call last)",
      "\u001b[0;32m<ipython-input-144-8b98fb55905e>\u001b[0m in \u001b[0;36m<module>\u001b[0;34m\u001b[0m\n\u001b[1;32m     35\u001b[0m \u001b[0;34m\u001b[0m\u001b[0m\n\u001b[1;32m     36\u001b[0m \u001b[0;32mtry\u001b[0m\u001b[0;34m:\u001b[0m\u001b[0;34m\u001b[0m\u001b[0;34m\u001b[0m\u001b[0m\n\u001b[0;32m---> 37\u001b[0;31m     \u001b[0miam\u001b[0m\u001b[0;34m.\u001b[0m\u001b[0mdetach_role_policy\u001b[0m\u001b[0;34m(\u001b[0m\u001b[0mRoleName\u001b[0m\u001b[0;34m=\u001b[0m\u001b[0mlambdaRoleName\u001b[0m\u001b[0;34m,\u001b[0m \u001b[0mPolicyArn\u001b[0m\u001b[0;34m=\u001b[0m\u001b[0mlambdaPolicyArn\u001b[0m\u001b[0;34m)\u001b[0m\u001b[0;34m\u001b[0m\u001b[0;34m\u001b[0m\u001b[0m\n\u001b[0m\u001b[1;32m     38\u001b[0m     \u001b[0miam\u001b[0m\u001b[0;34m.\u001b[0m\u001b[0mdelete_role\u001b[0m\u001b[0;34m(\u001b[0m\u001b[0mRoleName\u001b[0m\u001b[0;34m=\u001b[0m\u001b[0mlambdaRoleName\u001b[0m\u001b[0;34m)\u001b[0m\u001b[0;34m\u001b[0m\u001b[0;34m\u001b[0m\u001b[0m\n\u001b[1;32m     39\u001b[0m \u001b[0;32mexcept\u001b[0m \u001b[0mClientError\u001b[0m \u001b[0;32mas\u001b[0m \u001b[0me\u001b[0m\u001b[0;34m:\u001b[0m\u001b[0;34m\u001b[0m\u001b[0;34m\u001b[0m\u001b[0m\n",
      "\u001b[0;31mNameError\u001b[0m: name 'lambdaPolicyArn' is not defined"
     ]
    }
   ],
   "source": [
    "try:\n",
    "    awslambda.delete_function(FunctionName=lambdaName)\n",
    "except ClientError as e: \n",
    "    if e.response['Error']['Code'] != 'ResourceNotFoundException':\n",
    "        raise\n",
    "        \n",
    "try:\n",
    "    kfhClient.delete_delivery_stream(\n",
    "        DeliveryStreamName=streamName)\n",
    "except ClientError as e:\n",
    "    if e.response['Error']['Code'] != 'ResourceNotFoundException':\n",
    "        raise\n",
    "\n",
    "try:\n",
    "    client.delete_stream(\n",
    "        StreamName=streamName,\n",
    "        EnforceConsumerDeletion=True)\n",
    "except ClientError as e:\n",
    "    if e.response['Error']['Code'] != 'ResourceNotFoundException':\n",
    "        raise\n",
    "        \n",
    "try:\n",
    "    iam.detach_role_policy(RoleName=roleName, PolicyArn=policyArn)\n",
    "    iam.delete_role(RoleName=roleName)\n",
    "    for version in iam.list_policy_versions(PolicyArn=policyArn)['Versions']:\n",
    "        if not version['IsDefaultVersion']:\n",
    "            iam.delete_policy_version(\n",
    "                PolicyArn=policyArn,\n",
    "                VersionId=version['VersionId']\n",
    "            )\n",
    "    iam.delete_policy(PolicyArn=policyArn)\n",
    "except ClientError as e:\n",
    "    if e.response['Error']['Code'] != 'NoSuchEntity':\n",
    "        raise       \n",
    "        \n",
    "try:\n",
    "    iam.detach_role_policy(RoleName=lambdaRoleName, PolicyArn=lambdaPolicyArn)\n",
    "    iam.delete_role(RoleName=lambdaRoleName)\n",
    "except ClientError as e:\n",
    "    if e.response['Error']['Code'] != 'NoSuchEntity':\n",
    "        raise"
   ]
  }
 ],
 "metadata": {
  "kernelspec": {
   "display_name": "Python 3",
   "language": "python",
   "name": "python3"
  },
  "language_info": {
   "codemirror_mode": {
    "name": "ipython",
    "version": 3
   },
   "file_extension": ".py",
   "mimetype": "text/x-python",
   "name": "python",
   "nbconvert_exporter": "python",
   "pygments_lexer": "ipython3",
   "version": "3.7.5"
  }
 },
 "nbformat": 4,
 "nbformat_minor": 2
}
