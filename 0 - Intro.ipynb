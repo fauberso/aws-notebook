{
 "cells": [
  {
   "cell_type": "markdown",
   "metadata": {},
   "source": [
    "This is a collection of examples on using Boto3 and AWS.\n",
    "You'll need to have your access key and default region set up under `~/.aws/credentials`:\n",
    "```\n",
    "[default]\n",
    "aws_access_key_id = YOUR_KEY\n",
    "aws_secret_access_key = YOUR_SECRET\n",
    "[default]\n",
    "region=us-east-1\n",
    "```\n"
   ]
  },
  {
   "cell_type": "code",
   "execution_count": 20,
   "metadata": {},
   "outputs": [
    {
     "name": "stdout",
     "output_type": "stream",
     "text": [
      "Using profile: default\n",
      "Currently set up for region eu-central-1\n"
     ]
    }
   ],
   "source": [
    "sess = boto3.session.Session()\n",
    "print('Using profile: ' + sess.profile_name)\n",
    "print('Currently set up for region ' + sess.region_name)"
   ]
  },
  {
   "cell_type": "code",
   "execution_count": 21,
   "metadata": {},
   "outputs": [
    {
     "name": "stdout",
     "output_type": "stream",
     "text": [
      "elasticbeanstalk-eu-central-1-549935274340\n",
      "elasticbeanstalk-eu-west-1-549935274340\n",
      "ncetransportationcloudtrail\n",
      "open-rail-data\n",
      "open-rail-data-archive\n",
      "open-rail-data-logs\n",
      "otp-lab-data\n",
      "otp-lab-logfiles\n",
      "redist-ibm-cplex\n",
      "redist-ora-rdbms\n",
      "redist-resourcingapp\n"
     ]
    }
   ],
   "source": [
    "import boto3\n",
    "s3 = boto3.resource('s3')\n",
    "for bucket in s3.buckets.all():\n",
    "    print(bucket.name)"
   ]
  },
  {
   "cell_type": "code",
   "execution_count": null,
   "metadata": {},
   "outputs": [],
   "source": []
  }
 ],
 "metadata": {
  "kernelspec": {
   "display_name": "Python 3",
   "language": "python",
   "name": "python3"
  },
  "language_info": {
   "codemirror_mode": {
    "name": "ipython",
    "version": 3
   },
   "file_extension": ".py",
   "mimetype": "text/x-python",
   "name": "python",
   "nbconvert_exporter": "python",
   "pygments_lexer": "ipython3",
   "version": "3.7.5"
  }
 },
 "nbformat": 4,
 "nbformat_minor": 2
}
